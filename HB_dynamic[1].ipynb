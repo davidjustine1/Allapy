{
 "cells": [
  {
   "cell_type": "code",
   "execution_count": 7,
   "metadata": {},
   "outputs": [
    {
     "name": "stdout",
     "output_type": "stream",
     "text": [
      "\n",
      "Enter houseboat details for dynamic price prediction:\n",
      "\n",
      "🔹 **Predicted Dynamic Price:** ₹8500.00\n"
     ]
    }
   ],
   "source": [
    "import pandas as pd\n",
    "import numpy as np\n",
    "import pickle\n",
    "from sklearn.preprocessing import LabelEncoder\n",
    "\n",
    "# Load dataset\n",
    "df = pd.read_csv(\"D://Allapy//final_datasetHB.csv\")\n",
    "\n",
    "# Ensure 'number_of_days' exists before filtering\n",
    "if 'duration' in df.columns:\n",
    "    df = df[df[\"duration\"] == 1]  # Only keep 1-day bookings\n",
    "\n",
    "# Encode categorical variables\n",
    "label_encoders = {}\n",
    "for col in ['houseboat_type', 'season']:\n",
    "    le = LabelEncoder()\n",
    "    df[col] = le.fit_transform(df[col])\n",
    "    label_encoders[col] = le\n",
    "\n",
    "# ---- USER INPUT SECTION ----\n",
    "def predict_dynamic_price():\n",
    "    print(\"\\nEnter houseboat details for dynamic price prediction:\")\n",
    "\n",
    "    capacity = int(input(\"Capacity (number of people): \"))\n",
    "    bedrooms = int(input(\"Number of bedrooms: \"))\n",
    "\n",
    "    houseboat_type = input(\"Houseboat type (S for Standard, L for Luxury): \").strip().upper()\n",
    "    houseboat_type = \"Standard\" if houseboat_type == \"S\" else \"Luxury\"\n",
    "\n",
    "    season = input(\"Season (P for Peak, O for Off-Season): \").strip().upper()\n",
    "    season = \"Peak\" if season == \"P\" else \"Off-Season\"\n",
    "\n",
    "    # Encode categorical inputs\n",
    "    houseboat_type_encoded = label_encoders['houseboat_type'].transform([houseboat_type])[0]\n",
    "    season_encoded = label_encoders['season'].transform([season])[0]\n",
    "\n",
    "    # **Find similar boats (ONLY 1-day bookings)**\n",
    "    similar_boats = df[\n",
    "        (df[\"capacity\"] == capacity) & \n",
    "        (df[\"bedrooms\"] == bedrooms) & \n",
    "        (df[\"houseboat_type\"] == houseboat_type_encoded) & \n",
    "        (df[\"season\"] == season_encoded)\n",
    "    ]\n",
    "\n",
    "    # **Compute base price (median of similar boats)**\n",
    "    base_price = similar_boats[\"base_price\"].median()\n",
    "\n",
    "    if pd.isna(base_price):  \n",
    "        base_price = df[\"base_price\"].median()  # Use global median if no similar boats\n",
    "\n",
    "    # **Apply seasonal multiplier**\n",
    "    seasonal_multiplier = 1.2 if season == \"Peak\" else 0.85\n",
    "    predicted_price = base_price * seasonal_multiplier\n",
    "\n",
    "    # **Find actual dataset prices (for validation)**\n",
    "    actual_prices = similar_boats[\"final_price\"].tolist()\n",
    "\n",
    "    if len(actual_prices) > 0:\n",
    "        median_actual_price = np.median(actual_prices)\n",
    "        price_diff = abs(predicted_price - median_actual_price)\n",
    "\n",
    "        # **Adjust price if difference > 20%**\n",
    "        if price_diff > (0.2 * median_actual_price):\n",
    "            predicted_price = (predicted_price + median_actual_price) / 2  \n",
    "\n",
    "    # **Print results**\n",
    "    print(\"\\n🔹 **Predicted Dynamic Price:** ₹{:.2f}\".format(predicted_price))\n",
    "\n",
    "# Run user input function\n",
    "predict_dynamic_price()\n",
    "\n",
    "\n"
   ]
  },
  {
   "cell_type": "code",
   "execution_count": null,
   "metadata": {},
   "outputs": [],
   "source": []
  }
 ],
 "metadata": {
  "kernelspec": {
   "display_name": "venn",
   "language": "python",
   "name": "python3"
  },
  "language_info": {
   "codemirror_mode": {
    "name": "ipython",
    "version": 3
   },
   "file_extension": ".py",
   "mimetype": "text/x-python",
   "name": "python",
   "nbconvert_exporter": "python",
   "pygments_lexer": "ipython3",
   "version": "3.11.9"
  }
 },
 "nbformat": 4,
 "nbformat_minor": 2
}
